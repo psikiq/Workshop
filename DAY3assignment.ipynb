{
  "nbformat": 4,
  "nbformat_minor": 0,
  "metadata": {
    "colab": {
      "name": "DAY3assignment.ipynb",
      "provenance": [],
      "collapsed_sections": []
    },
    "kernelspec": {
      "name": "python3",
      "display_name": "Python 3"
    }
  },
  "cells": [
    {
      "cell_type": "code",
      "metadata": {
        "id": "rFL3heYXB57T"
      },
      "source": [
        "marks = int(input(\"Enter the mark: \"))\n",
        "\n",
        "if marks >= 90:\n",
        "  print(\"Grade is A\")\n",
        "elif marks >= 80:\n",
        "  print(\"Grade is B\")\n",
        "elif marks >= 70:\n",
        "  print(\"Grade is C\")\n",
        "elif marks >= 60:\n",
        "  print(\"Grade is D\")\n",
        "elif marks >= 50:\n",
        "  print(\"Grade is E\")\n",
        "else:\n",
        "  print(\"Failed!\")"
      ],
      "execution_count": null,
      "outputs": []
    },
    {
      "cell_type": "code",
      "metadata": {
        "id": "759AncoK8f-x"
      },
      "source": [
        "name = 'Kiran'\n",
        "password = '12345'\n",
        "otp = '678jkl'\n",
        "\n",
        "username = input(\"Enter the name: \")\n",
        "userpassword = input(\"Enter the password: \")\n",
        "\n",
        "if username == name :\n",
        " if userpassword == password :\n",
        "  userotp = input(\"Enter the otp no: \")\n",
        "  if userotp == otp:\n",
        "    print(\"Welcome \"+ username)\n",
        "  else:\n",
        "   print(\"Inncorrect OTP no.\")\n",
        " else :\n",
        "   print(\"Incorrect Password\")\n",
        "else :\n",
        "  print(\"This user is not in our database \")\n",
        "\n",
        "\n"
      ],
      "execution_count": null,
      "outputs": []
    },
    {
      "cell_type": "code",
      "metadata": {
        "colab": {
          "base_uri": "https://localhost:8080/"
        },
        "id": "nGmadCcI6UVt",
        "outputId": "5629fd80-90a3-4d1c-b541-7eeaa705dd41"
      },
      "source": [
        "marks = {\n",
        "    'Raju' : 98,\n",
        "    'Raveen':30,\n",
        "    'Pooja': 48,\n",
        "    'Salim': 63,\n",
        "    'Jacob': 55, \n",
        "  }\n",
        "for name in marks.keys():\n",
        "  if marks[name] < 60:\n",
        "   print( name +\" has failed\")"
      ],
      "execution_count": null,
      "outputs": [
        {
          "output_type": "stream",
          "text": [
            "Raveen has failed\n",
            "Pooja has failed\n",
            "Jacob has failed\n"
          ],
          "name": "stdout"
        }
      ]
    }
  ]
}