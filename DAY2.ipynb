{
  "nbformat": 4,
  "nbformat_minor": 0,
  "metadata": {
    "colab": {
      "name": "DAY2-assignment.ipynb",
      "provenance": [],
      "collapsed_sections": []
    },
    "kernelspec": {
      "name": "python3",
      "display_name": "Python 3"
    },
    "accelerator": "GPU"
  },
  "cells": [
    {
      "cell_type": "code",
      "metadata": {
        "id": "pJUhT9j9uy0x",
        "colab": {
          "base_uri": "https://localhost:8080/"
        },
        "outputId": "010baa9c-61e0-4bb0-b2b6-69c2d24cd29b"
      },
      "source": [
        "5 + 6"
      ],
      "execution_count": null,
      "outputs": [
        {
          "output_type": "stream",
          "text": [
            "11\n"
          ],
          "name": "stdout"
        }
      ]
    },
    {
      "cell_type": "code",
      "metadata": {
        "id": "vYDgaMM9vG8L"
      },
      "source": [
        "32 - 19"
      ],
      "execution_count": null,
      "outputs": []
    },
    {
      "cell_type": "code",
      "metadata": {
        "id": "Kemy3yY1vOaY"
      },
      "source": [
        "76 * 3"
      ],
      "execution_count": null,
      "outputs": []
    },
    {
      "cell_type": "code",
      "metadata": {
        "id": "xAieN7z-vUJg"
      },
      "source": [
        "48 / 4"
      ],
      "execution_count": null,
      "outputs": []
    },
    {
      "cell_type": "code",
      "metadata": {
        "id": "2kSD0XtVwYrI"
      },
      "source": [
        "print(int(input(\"Enter a number: \")) + 12)\n",
        "print(int(input(\"Enter a number: \")) - 3)\n",
        "print(int(input(\"Enter a number: \")) * 6)\n",
        "print(int(input(\"Enter a number: \")) / 2)"
      ],
      "execution_count": null,
      "outputs": []
    },
    {
      "cell_type": "code",
      "metadata": {
        "id": "Wvbe3mM7C1Zj"
      },
      "source": [
        "a = int(input(\"Enter a number: \"))\n",
        "print(a + 12)\n",
        "print(a - 3 )\n",
        "print(a * 6 )\n",
        "print(a / 2 )"
      ],
      "execution_count": null,
      "outputs": []
    },
    {
      "cell_type": "code",
      "metadata": {
        "id": "63MTQdIyBMze"
      },
      "source": [
        "a=int(input(\"Enter first number: \"))\n",
        "b=int(input(\"Enter second number: \"))\n",
        "print(a+b)\n",
        "print(a-b)\n",
        "print(a*b)\n",
        "print(a/b)"
      ],
      "execution_count": null,
      "outputs": []
    }
  ]
}
